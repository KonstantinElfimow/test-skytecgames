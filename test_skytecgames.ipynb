{
  "nbformat": 4,
  "nbformat_minor": 0,
  "metadata": {
    "colab": {
      "provenance": [],
      "toc_visible": true,
      "authorship_tag": "ABX9TyNPDQDCGtCyBFvQL9VGlSaT",
      "include_colab_link": true
    },
    "kernelspec": {
      "name": "python3",
      "display_name": "Python 3"
    },
    "language_info": {
      "name": "python"
    },
    "widgets": {
      "application/vnd.jupyter.widget-state+json": {
        "bdf725f379534c03af7d4482d32c33eb": {
          "model_module": "@jupyter-widgets/controls",
          "model_name": "HBoxModel",
          "model_module_version": "1.5.0",
          "state": {
            "_dom_classes": [],
            "_model_module": "@jupyter-widgets/controls",
            "_model_module_version": "1.5.0",
            "_model_name": "HBoxModel",
            "_view_count": null,
            "_view_module": "@jupyter-widgets/controls",
            "_view_module_version": "1.5.0",
            "_view_name": "HBoxView",
            "box_style": "",
            "children": [
              "IPY_MODEL_c23d3fb96d474927aa253bcb83b3d6d3",
              "IPY_MODEL_d2172cc642a64ba1857881eb7e379159",
              "IPY_MODEL_691d518d59804a0d964c913c4207613b"
            ],
            "layout": "IPY_MODEL_3f781f819619470a955ce79100fd86bd"
          }
        },
        "c23d3fb96d474927aa253bcb83b3d6d3": {
          "model_module": "@jupyter-widgets/controls",
          "model_name": "HTMLModel",
          "model_module_version": "1.5.0",
          "state": {
            "_dom_classes": [],
            "_model_module": "@jupyter-widgets/controls",
            "_model_module_version": "1.5.0",
            "_model_name": "HTMLModel",
            "_view_count": null,
            "_view_module": "@jupyter-widgets/controls",
            "_view_module_version": "1.5.0",
            "_view_name": "HTMLView",
            "description": "",
            "description_tooltip": null,
            "layout": "IPY_MODEL_2395d7b784d645bf8f46e8a7b34059ea",
            "placeholder": "​",
            "style": "IPY_MODEL_96e77c588db54284b4159de22c0fef41",
            "value": "100%"
          }
        },
        "d2172cc642a64ba1857881eb7e379159": {
          "model_module": "@jupyter-widgets/controls",
          "model_name": "FloatProgressModel",
          "model_module_version": "1.5.0",
          "state": {
            "_dom_classes": [],
            "_model_module": "@jupyter-widgets/controls",
            "_model_module_version": "1.5.0",
            "_model_name": "FloatProgressModel",
            "_view_count": null,
            "_view_module": "@jupyter-widgets/controls",
            "_view_module_version": "1.5.0",
            "_view_name": "ProgressView",
            "bar_style": "success",
            "description": "",
            "description_tooltip": null,
            "layout": "IPY_MODEL_96a2a279453e4002b41b9d80dae00b72",
            "max": 10000,
            "min": 0,
            "orientation": "horizontal",
            "style": "IPY_MODEL_0e2453f3a6204c349c946204d26294e1",
            "value": 10000
          }
        },
        "691d518d59804a0d964c913c4207613b": {
          "model_module": "@jupyter-widgets/controls",
          "model_name": "HTMLModel",
          "model_module_version": "1.5.0",
          "state": {
            "_dom_classes": [],
            "_model_module": "@jupyter-widgets/controls",
            "_model_module_version": "1.5.0",
            "_model_name": "HTMLModel",
            "_view_count": null,
            "_view_module": "@jupyter-widgets/controls",
            "_view_module_version": "1.5.0",
            "_view_name": "HTMLView",
            "description": "",
            "description_tooltip": null,
            "layout": "IPY_MODEL_6229c28e0aac42bc95a80c5b33d320eb",
            "placeholder": "​",
            "style": "IPY_MODEL_1149d982e59c4a2f884b8d9a7beb4e8f",
            "value": " 10000/10000 [00:14&lt;00:00, 464.90it/s]"
          }
        },
        "3f781f819619470a955ce79100fd86bd": {
          "model_module": "@jupyter-widgets/base",
          "model_name": "LayoutModel",
          "model_module_version": "1.2.0",
          "state": {
            "_model_module": "@jupyter-widgets/base",
            "_model_module_version": "1.2.0",
            "_model_name": "LayoutModel",
            "_view_count": null,
            "_view_module": "@jupyter-widgets/base",
            "_view_module_version": "1.2.0",
            "_view_name": "LayoutView",
            "align_content": null,
            "align_items": null,
            "align_self": null,
            "border": null,
            "bottom": null,
            "display": null,
            "flex": null,
            "flex_flow": null,
            "grid_area": null,
            "grid_auto_columns": null,
            "grid_auto_flow": null,
            "grid_auto_rows": null,
            "grid_column": null,
            "grid_gap": null,
            "grid_row": null,
            "grid_template_areas": null,
            "grid_template_columns": null,
            "grid_template_rows": null,
            "height": null,
            "justify_content": null,
            "justify_items": null,
            "left": null,
            "margin": null,
            "max_height": null,
            "max_width": null,
            "min_height": null,
            "min_width": null,
            "object_fit": null,
            "object_position": null,
            "order": null,
            "overflow": null,
            "overflow_x": null,
            "overflow_y": null,
            "padding": null,
            "right": null,
            "top": null,
            "visibility": null,
            "width": null
          }
        },
        "2395d7b784d645bf8f46e8a7b34059ea": {
          "model_module": "@jupyter-widgets/base",
          "model_name": "LayoutModel",
          "model_module_version": "1.2.0",
          "state": {
            "_model_module": "@jupyter-widgets/base",
            "_model_module_version": "1.2.0",
            "_model_name": "LayoutModel",
            "_view_count": null,
            "_view_module": "@jupyter-widgets/base",
            "_view_module_version": "1.2.0",
            "_view_name": "LayoutView",
            "align_content": null,
            "align_items": null,
            "align_self": null,
            "border": null,
            "bottom": null,
            "display": null,
            "flex": null,
            "flex_flow": null,
            "grid_area": null,
            "grid_auto_columns": null,
            "grid_auto_flow": null,
            "grid_auto_rows": null,
            "grid_column": null,
            "grid_gap": null,
            "grid_row": null,
            "grid_template_areas": null,
            "grid_template_columns": null,
            "grid_template_rows": null,
            "height": null,
            "justify_content": null,
            "justify_items": null,
            "left": null,
            "margin": null,
            "max_height": null,
            "max_width": null,
            "min_height": null,
            "min_width": null,
            "object_fit": null,
            "object_position": null,
            "order": null,
            "overflow": null,
            "overflow_x": null,
            "overflow_y": null,
            "padding": null,
            "right": null,
            "top": null,
            "visibility": null,
            "width": null
          }
        },
        "96e77c588db54284b4159de22c0fef41": {
          "model_module": "@jupyter-widgets/controls",
          "model_name": "DescriptionStyleModel",
          "model_module_version": "1.5.0",
          "state": {
            "_model_module": "@jupyter-widgets/controls",
            "_model_module_version": "1.5.0",
            "_model_name": "DescriptionStyleModel",
            "_view_count": null,
            "_view_module": "@jupyter-widgets/base",
            "_view_module_version": "1.2.0",
            "_view_name": "StyleView",
            "description_width": ""
          }
        },
        "96a2a279453e4002b41b9d80dae00b72": {
          "model_module": "@jupyter-widgets/base",
          "model_name": "LayoutModel",
          "model_module_version": "1.2.0",
          "state": {
            "_model_module": "@jupyter-widgets/base",
            "_model_module_version": "1.2.0",
            "_model_name": "LayoutModel",
            "_view_count": null,
            "_view_module": "@jupyter-widgets/base",
            "_view_module_version": "1.2.0",
            "_view_name": "LayoutView",
            "align_content": null,
            "align_items": null,
            "align_self": null,
            "border": null,
            "bottom": null,
            "display": null,
            "flex": null,
            "flex_flow": null,
            "grid_area": null,
            "grid_auto_columns": null,
            "grid_auto_flow": null,
            "grid_auto_rows": null,
            "grid_column": null,
            "grid_gap": null,
            "grid_row": null,
            "grid_template_areas": null,
            "grid_template_columns": null,
            "grid_template_rows": null,
            "height": null,
            "justify_content": null,
            "justify_items": null,
            "left": null,
            "margin": null,
            "max_height": null,
            "max_width": null,
            "min_height": null,
            "min_width": null,
            "object_fit": null,
            "object_position": null,
            "order": null,
            "overflow": null,
            "overflow_x": null,
            "overflow_y": null,
            "padding": null,
            "right": null,
            "top": null,
            "visibility": null,
            "width": null
          }
        },
        "0e2453f3a6204c349c946204d26294e1": {
          "model_module": "@jupyter-widgets/controls",
          "model_name": "ProgressStyleModel",
          "model_module_version": "1.5.0",
          "state": {
            "_model_module": "@jupyter-widgets/controls",
            "_model_module_version": "1.5.0",
            "_model_name": "ProgressStyleModel",
            "_view_count": null,
            "_view_module": "@jupyter-widgets/base",
            "_view_module_version": "1.2.0",
            "_view_name": "StyleView",
            "bar_color": null,
            "description_width": ""
          }
        },
        "6229c28e0aac42bc95a80c5b33d320eb": {
          "model_module": "@jupyter-widgets/base",
          "model_name": "LayoutModel",
          "model_module_version": "1.2.0",
          "state": {
            "_model_module": "@jupyter-widgets/base",
            "_model_module_version": "1.2.0",
            "_model_name": "LayoutModel",
            "_view_count": null,
            "_view_module": "@jupyter-widgets/base",
            "_view_module_version": "1.2.0",
            "_view_name": "LayoutView",
            "align_content": null,
            "align_items": null,
            "align_self": null,
            "border": null,
            "bottom": null,
            "display": null,
            "flex": null,
            "flex_flow": null,
            "grid_area": null,
            "grid_auto_columns": null,
            "grid_auto_flow": null,
            "grid_auto_rows": null,
            "grid_column": null,
            "grid_gap": null,
            "grid_row": null,
            "grid_template_areas": null,
            "grid_template_columns": null,
            "grid_template_rows": null,
            "height": null,
            "justify_content": null,
            "justify_items": null,
            "left": null,
            "margin": null,
            "max_height": null,
            "max_width": null,
            "min_height": null,
            "min_width": null,
            "object_fit": null,
            "object_position": null,
            "order": null,
            "overflow": null,
            "overflow_x": null,
            "overflow_y": null,
            "padding": null,
            "right": null,
            "top": null,
            "visibility": null,
            "width": null
          }
        },
        "1149d982e59c4a2f884b8d9a7beb4e8f": {
          "model_module": "@jupyter-widgets/controls",
          "model_name": "DescriptionStyleModel",
          "model_module_version": "1.5.0",
          "state": {
            "_model_module": "@jupyter-widgets/controls",
            "_model_module_version": "1.5.0",
            "_model_name": "DescriptionStyleModel",
            "_view_count": null,
            "_view_module": "@jupyter-widgets/base",
            "_view_module_version": "1.2.0",
            "_view_name": "StyleView",
            "description_width": ""
          }
        }
      }
    }
  },
  "cells": [
    {
      "cell_type": "markdown",
      "metadata": {
        "id": "view-in-github",
        "colab_type": "text"
      },
      "source": [
        "<a href=\"https://colab.research.google.com/github/KonstantinElfimow/test-skytecgames/blob/main/test_skytecgames.ipynb\" target=\"_parent\"><img src=\"https://colab.research.google.com/assets/colab-badge.svg\" alt=\"Open In Colab\"/></a>"
      ]
    },
    {
      "cell_type": "markdown",
      "source": [
        "# **Задание**"
      ],
      "metadata": {
        "id": "K9yXJ4duDVES"
      }
    },
    {
      "cell_type": "markdown",
      "source": [
        "https://drive.google.com/file/d/177ARF_woT0OBkUfDu24hpgc4fOAqKkr7/view?usp=sharing"
      ],
      "metadata": {
        "id": "qGmlIJvRDaJ7"
      }
    },
    {
      "cell_type": "markdown",
      "source": [
        "# Импорты"
      ],
      "metadata": {
        "id": "HCr0LQQLGdAH"
      }
    },
    {
      "cell_type": "code",
      "execution_count": null,
      "metadata": {
        "id": "bea_AwCKS4dl"
      },
      "outputs": [],
      "source": [
        "import pandas as pd\n",
        "import numpy as np\n",
        "import matplotlib.pyplot as plt\n",
        "import seaborn as sns\n",
        "from scipy import stats\n",
        "from statsmodels.stats.power import zt_ind_solve_power\n",
        "from statsmodels.stats.proportion import proportions_ztest\n",
        "import statsmodels.stats.api as sms\n",
        "from tqdm.notebook import tqdm\n",
        "\n",
        "import warnings\n",
        "warnings.filterwarnings('ignore')\n",
        "pd.set_option('display.max_columns', None)\n",
        "pd.set_option('display.max_rows', None)"
      ]
    },
    {
      "cell_type": "markdown",
      "source": [
        "# Решение задач"
      ],
      "metadata": {
        "id": "8dp3tV7bGid_"
      }
    },
    {
      "cell_type": "markdown",
      "source": [
        "## Задача #1 (Успешность прототипа)"
      ],
      "metadata": {
        "id": "-dNziV36GmhG"
      }
    },
    {
      "cell_type": "markdown",
      "source": [
        "Условие:\n",
        "*   Известно что компания конкурент выпустила 1000 прототипов игр, из которых было 5 успешных. Наша компания выпустила 200 прототипов из которых ни один не был успешен.\n",
        "*   Какова вероятность что следующий (201й) наш прототип будет успешен? Какими методами можно решать данную задачу? Предложите как минимум 2 варианта. Если у вас есть какой-то вариант решения задачи для которого требуются доп. данные - перечислите что требуется и метод решения."
      ],
      "metadata": {
        "id": "r-ny2P1iHGcZ"
      }
    },
    {
      "cell_type": "markdown",
      "source": [
        "### **Мои решения**"
      ],
      "metadata": {
        "id": "XpRaYHnYcT7S"
      }
    },
    {
      "cell_type": "markdown",
      "source": [
        "1.   Одним из решений будет являться предположение о том, что наша компания не пользуется успехом на рынке, так как посчитав относительную частоту успеха мы получим 0 (m / n, где m - количество успешных прототипов нашей компании, n - общее количество наших прототипов). Тогда воспользовавшись формулой Бернулли, мы тоже получим 0.\n",
        "> Ответ (в процентах): 0%\n",
        "\n",
        "2.   Вторым решением будет предположение о том, что наша компания такая же успешная, как и компания-конкурент, просто нам пока ещё не выпал случай получить успешный кейс, так как этот случай - ***редкое*** событие. Тогда мы можем посчитать вероятность, что 201-й прототип будет успешным, воспользовавшись теоремой Пуассона и приближенной формулой Пуассона.\n"
      ],
      "metadata": {
        "id": "xkA12cbAHUQk"
      }
    },
    {
      "cell_type": "code",
      "source": [
        "p = 5 / 1000 # относительная частота успеха\n",
        "\n",
        "n1 = 201 # Всего испытаний\n",
        "k1 = 1 # 201-й прототип окажется успешным\n",
        "lambda_1 = n1 * p # среднее число успехов за один прототип\n",
        "\n",
        "# приближенная формула Пуассона. Вероятность успешного выпуска ровно 1 прототипа из 201\n",
        "result = ((lambda_1 ** k1) / np.math.factorial(k1)) * np.exp(-lambda_1)\n",
        "print(round(result, 4))"
      ],
      "metadata": {
        "id": "jA2GdKPrfAvX",
        "colab": {
          "base_uri": "https://localhost:8080/"
        },
        "outputId": "ecd07562-4eab-484c-904c-c8ab5320e9ad"
      },
      "execution_count": null,
      "outputs": [
        {
          "output_type": "stream",
          "name": "stdout",
          "text": [
            "0.3679\n"
          ]
        }
      ]
    },
    {
      "cell_type": "markdown",
      "source": [
        "\n",
        "> Ответ (в процентах): ~36,8%"
      ],
      "metadata": {
        "id": "G6HvoHTwNQak"
      }
    },
    {
      "cell_type": "markdown",
      "source": [
        "## Задача #2 (Сравнение групп платящих игроков)"
      ],
      "metadata": {
        "id": "NJ1367oVTX40"
      }
    },
    {
      "cell_type": "markdown",
      "source": [
        "Условие:\n",
        "*   В мобильной игре около 10% игроков совершает платежи в первый месяц с момента установки игры (база расчета - 500 игроков).\n",
        "*   Геймдизайнеры разработали обновление которое по их экспертной оценке должно увеличить процент плательщиков с 10% до 11%. Цель эксперимента - подтвердить или опровергнуть их гипотезу.\n",
        "\n",
        "Задачи:\n",
        "1. Опишите оптимальный по вашему мнению дизайн эксперимента\n",
        "2. Рассчитайте длительность эксперимента при условии что каждый день в игру приходит около 100 новых игроков.\n",
        "3. Самостоятельно сгенерируйте датасет с около 10% плательщиков (контроль) и рассчитайте доверительный интервал.\n",
        "4. Сгенерируйте несколько вариантов экспериментальной группы (хуже, лучше, без эффекта), рассчитайте силу эффекта, ДИ и ваши выводы для каждого варианта.\n",
        "5. Решите задачу 2 разными подходами: frequentist / bayesian\n",
        "Необходимо все ответы сопроводить"
      ],
      "metadata": {
        "id": "bmad-pRTTgIR"
      }
    },
    {
      "cell_type": "markdown",
      "source": [
        "**Решение**"
      ],
      "metadata": {
        "id": "BM-D_PSDcn_X"
      }
    },
    {
      "cell_type": "markdown",
      "source": [
        "**Сноска**\n",
        "> Если я правильно понял задание, то цель нашего эксперимента увеличить конверсию в покупку внутри игрового магазина для НОВЫХ пользователей в течение месяца с момента установки приложения.\n",
        "\n"
      ],
      "metadata": {
        "id": "8XLkRWf8d728"
      }
    },
    {
      "cell_type": "markdown",
      "source": [
        "### **Пункт 1**"
      ],
      "metadata": {
        "id": "cfdqCpEvcyRM"
      }
    },
    {
      "cell_type": "markdown",
      "source": [
        "\n",
        "*   Пользователи будут разбиваться на 2 группы случайным образом: контрольную и экспериментальную. Контрольная группа будет играть в стандартную версию игры без обновления, а экспериментальная группа будет играть в версию с обновлением.\n",
        "*   Так как ожидается большой эффект на поведение игроков, то следует использовать более равномерное соотношение, например, 50/50 или 70/30. Я буду использовать 50/50.\n",
        "*   Я бы предложил проводить эксперимент в течение 2-х месяцев (это лишь моя мысль в тот момент, когда я ещё не посчитал необходимое количество новых пользователей для проверки гипотезы), в течение первого месяца будут приходить новые пользователи, на которых будет проводиться эксперимент, и до конца второго месяца собирали бы информацию о том, была ли конверсия в покупку у этих пользователей из 2-х групп.\n",
        "*   Я могу предположить, что геймдизайнеры ввели акцию в игровом магазине, полагаясь на эффект новизны у новых пользователей, где они бы видели для себя выгоду. Такой эксперимент не слишком трудозатратный, в отличие от маркетинговых кампаний, которые могут нам выйти очень дорого, что даже 1% изменений в лучшую сторону не покроет расходов на рекламу.\n",
        "*   В конце эксперимента можно провести множественную проверку гипотез, чтобы выяснить, какие элементы обновления оказали наибольшее влияние на поведение игроков (какие акции были более успешными). Это поможет геймдизайнерам улучшить игру еще больше в будущем.\n",
        "*   Я бы хотел предложить ещё B/A-тест в случае успеха с A/B-тестом, однако в силу специфической метрики (конверсия в покупку внутри игрового магазина для новых пользователей в течение месяца с момента установки приложения), то я не вижу такой возможности раскатать обратный тест для пользователей. Аналогично с A/A-тестом. Мы просто не можем уже группу пользователей, видивших акцию,откатить к старой версии (мы что насильно у них её отберём до окончания таймера?), это как-то нелогично.\n",
        "\n",
        "\n",
        "\n",
        "\n"
      ],
      "metadata": {
        "id": "D3oM3iqZezo9"
      }
    },
    {
      "cell_type": "markdown",
      "source": [
        "### **Пункт 2**"
      ],
      "metadata": {
        "id": "ENldvPH9rVrq"
      }
    },
    {
      "cell_type": "code",
      "source": [
        "alpha = 0.05\n",
        "beta = 0.2\n",
        "\n",
        "p0 = 0.1\n",
        "pa = 0.11\n",
        "\n",
        "# сила эффекта\n",
        "es = sms.proportion_effectsize(pa, p0)\n",
        "print(f'Сила эффекта: {es}')\n",
        "# Минимальный размер выборки, чтобы задетектить минимальную силу эффекта и получить ошибки alpha и beta\n",
        "n = zt_ind_solve_power(\n",
        "    effect_size=es,\n",
        "    nobs1=None,\n",
        "    alpha=alpha,\n",
        "    power=(1 - beta),\n",
        "    ratio=1,\n",
        "    alternative='larger'\n",
        "    )\n",
        "n = int(np.ceil(n / 2))\n",
        "print(f'Размер каждой из групп: {n}')"
      ],
      "metadata": {
        "colab": {
          "base_uri": "https://localhost:8080/"
        },
        "id": "q69rQYJCvKWl",
        "outputId": "926f9852-3b91-4f1f-dcc5-16b53fc75783"
      },
      "execution_count": null,
      "outputs": [
        {
          "output_type": "stream",
          "name": "stdout",
          "text": [
            "Сила эффекта: 0.03262940076737697\n",
            "Размер каждой из групп: 5807\n"
          ]
        }
      ]
    },
    {
      "cell_type": "code",
      "source": [
        "# n - количество наблюдений в каждой группе,\n",
        "# а так как отношение групп будет 1:1,\n",
        "# тогда всего наблюдений за время A/B-теста нужно 2n\n",
        "\n",
        "# Если в день приходит по 100 новых пользователей, то эксперимент будет длиться\n",
        "days = int(np.ceil(2 * n / 100))\n",
        "print(days)"
      ],
      "metadata": {
        "colab": {
          "base_uri": "https://localhost:8080/"
        },
        "id": "kBLeG94Ez0_T",
        "outputId": "250c76d6-7c30-4b78-e14b-cb1c4212f3ac"
      },
      "execution_count": null,
      "outputs": [
        {
          "output_type": "stream",
          "name": "stdout",
          "text": [
            "117\n"
          ]
        }
      ]
    },
    {
      "cell_type": "code",
      "source": [
        "# 117 дней мы должны собирать данные о новых пользователях, НО!\n",
        "# так как в условии задания сказано, что новый пользователь должен ещё в течение\n",
        "# месяца совершить покупку, то для самого последнего пользователя мы ещё должны\n",
        "# пронаблюдать его поведение в течение следующего месяца,\n",
        "# поэтому итоговый ответ будет\n",
        "days += 30\n",
        "print(days)"
      ],
      "metadata": {
        "colab": {
          "base_uri": "https://localhost:8080/"
        },
        "id": "8NKdwfqC0v3S",
        "outputId": "7a909762-8c3d-4520-d1c1-00c9348b7f75"
      },
      "execution_count": null,
      "outputs": [
        {
          "output_type": "stream",
          "name": "stdout",
          "text": [
            "147\n"
          ]
        }
      ]
    },
    {
      "cell_type": "markdown",
      "source": [
        "\n",
        "\n",
        "> Ответ: 147 дней\n",
        "\n",
        "\n",
        "\n"
      ],
      "metadata": {
        "id": "8v1q4YOI1lg1"
      }
    },
    {
      "cell_type": "markdown",
      "source": [
        "### **Пункт 3**"
      ],
      "metadata": {
        "id": "cUlSQWSE3K0k"
      }
    },
    {
      "cell_type": "code",
      "source": [
        "def conf_interval(p, n, alpha):\n",
        "  H = stats.norm.ppf(1 - alpha) * ((p * (1 - p) / n) ** .5)\n",
        "  return (p - H), (p + H)"
      ],
      "metadata": {
        "id": "M5UhgqYKFbal"
      },
      "execution_count": null,
      "outputs": []
    },
    {
      "cell_type": "code",
      "source": [
        "# датасет с около 10% плательщиков (контроль)\n",
        "control_dataset = pd.Series(np.random.binomial(1, 0.1, size=n))\n",
        "# конверсия в покупку после 1 месяца со дня установки игры\n",
        "p = control_dataset.mean()\n",
        "print('Конверсия: {:.05f}\\n'.format(p))\n",
        "lower, upper = conf_interval(p, n, alpha)\n",
        "print('Доверительный интервал для плательщиков:\\n({:.05f}; {:.05f})\\n'.format(lower, upper))\n",
        "print('Уровень значимости:\\nalpha={}'.format(alpha))"
      ],
      "metadata": {
        "colab": {
          "base_uri": "https://localhost:8080/"
        },
        "id": "xiAS_zwn2YVV",
        "outputId": "4e15918c-b670-4033-b3aa-67e740c6bf51"
      },
      "execution_count": null,
      "outputs": [
        {
          "output_type": "stream",
          "name": "stdout",
          "text": [
            "Конверсия: 0.10040\n",
            "\n",
            "Доверительный интервал для плательщиков:\n",
            "(0.09391; 0.10688)\n",
            "\n",
            "Уровень значимости:\n",
            "alpha=0.05\n"
          ]
        }
      ]
    },
    {
      "cell_type": "markdown",
      "source": [
        "### **Пункт 4**"
      ],
      "metadata": {
        "id": "cUN_69OX9Tfd"
      }
    },
    {
      "cell_type": "markdown",
      "source": [
        "**Сноска** (а-ля пастулат)\n",
        "> Контрольная и экспериментальная группы - это 2 независимые выборки. Пользователи в них были выбраны абсолютно случайным образом.\n",
        "\n"
      ],
      "metadata": {
        "id": "4BXSvUvw9gU8"
      }
    },
    {
      "cell_type": "code",
      "source": [
        "# Контрольная группа\n",
        "df = pd.DataFrame(control_dataset)\n",
        "df.rename(columns={df.columns[0]: 'converted'}, inplace=True)\n",
        "df['con_treat'] = 'control'\n",
        "display(df.head(5))"
      ],
      "metadata": {
        "colab": {
          "base_uri": "https://localhost:8080/",
          "height": 206
        },
        "id": "M3yTS821-ycu",
        "outputId": "bca55f52-f7ce-47cf-c11c-4b83ff12fa09"
      },
      "execution_count": null,
      "outputs": [
        {
          "output_type": "display_data",
          "data": {
            "text/plain": [
              "   converted con_treat\n",
              "0          0   control\n",
              "1          0   control\n",
              "2          0   control\n",
              "3          0   control\n",
              "4          0   control"
            ],
            "text/html": [
              "\n",
              "  <div id=\"df-ff6b345e-3be0-41e3-9fe4-49243721fe0f\" class=\"colab-df-container\">\n",
              "    <div>\n",
              "<style scoped>\n",
              "    .dataframe tbody tr th:only-of-type {\n",
              "        vertical-align: middle;\n",
              "    }\n",
              "\n",
              "    .dataframe tbody tr th {\n",
              "        vertical-align: top;\n",
              "    }\n",
              "\n",
              "    .dataframe thead th {\n",
              "        text-align: right;\n",
              "    }\n",
              "</style>\n",
              "<table border=\"1\" class=\"dataframe\">\n",
              "  <thead>\n",
              "    <tr style=\"text-align: right;\">\n",
              "      <th></th>\n",
              "      <th>converted</th>\n",
              "      <th>con_treat</th>\n",
              "    </tr>\n",
              "  </thead>\n",
              "  <tbody>\n",
              "    <tr>\n",
              "      <th>0</th>\n",
              "      <td>0</td>\n",
              "      <td>control</td>\n",
              "    </tr>\n",
              "    <tr>\n",
              "      <th>1</th>\n",
              "      <td>0</td>\n",
              "      <td>control</td>\n",
              "    </tr>\n",
              "    <tr>\n",
              "      <th>2</th>\n",
              "      <td>0</td>\n",
              "      <td>control</td>\n",
              "    </tr>\n",
              "    <tr>\n",
              "      <th>3</th>\n",
              "      <td>0</td>\n",
              "      <td>control</td>\n",
              "    </tr>\n",
              "    <tr>\n",
              "      <th>4</th>\n",
              "      <td>0</td>\n",
              "      <td>control</td>\n",
              "    </tr>\n",
              "  </tbody>\n",
              "</table>\n",
              "</div>\n",
              "    <div class=\"colab-df-buttons\">\n",
              "\n",
              "  <div class=\"colab-df-container\">\n",
              "    <button class=\"colab-df-convert\" onclick=\"convertToInteractive('df-ff6b345e-3be0-41e3-9fe4-49243721fe0f')\"\n",
              "            title=\"Convert this dataframe to an interactive table.\"\n",
              "            style=\"display:none;\">\n",
              "\n",
              "  <svg xmlns=\"http://www.w3.org/2000/svg\" height=\"24px\" viewBox=\"0 -960 960 960\">\n",
              "    <path d=\"M120-120v-720h720v720H120Zm60-500h600v-160H180v160Zm220 220h160v-160H400v160Zm0 220h160v-160H400v160ZM180-400h160v-160H180v160Zm440 0h160v-160H620v160ZM180-180h160v-160H180v160Zm440 0h160v-160H620v160Z\"/>\n",
              "  </svg>\n",
              "    </button>\n",
              "\n",
              "  <style>\n",
              "    .colab-df-container {\n",
              "      display:flex;\n",
              "      gap: 12px;\n",
              "    }\n",
              "\n",
              "    .colab-df-convert {\n",
              "      background-color: #E8F0FE;\n",
              "      border: none;\n",
              "      border-radius: 50%;\n",
              "      cursor: pointer;\n",
              "      display: none;\n",
              "      fill: #1967D2;\n",
              "      height: 32px;\n",
              "      padding: 0 0 0 0;\n",
              "      width: 32px;\n",
              "    }\n",
              "\n",
              "    .colab-df-convert:hover {\n",
              "      background-color: #E2EBFA;\n",
              "      box-shadow: 0px 1px 2px rgba(60, 64, 67, 0.3), 0px 1px 3px 1px rgba(60, 64, 67, 0.15);\n",
              "      fill: #174EA6;\n",
              "    }\n",
              "\n",
              "    .colab-df-buttons div {\n",
              "      margin-bottom: 4px;\n",
              "    }\n",
              "\n",
              "    [theme=dark] .colab-df-convert {\n",
              "      background-color: #3B4455;\n",
              "      fill: #D2E3FC;\n",
              "    }\n",
              "\n",
              "    [theme=dark] .colab-df-convert:hover {\n",
              "      background-color: #434B5C;\n",
              "      box-shadow: 0px 1px 3px 1px rgba(0, 0, 0, 0.15);\n",
              "      filter: drop-shadow(0px 1px 2px rgba(0, 0, 0, 0.3));\n",
              "      fill: #FFFFFF;\n",
              "    }\n",
              "  </style>\n",
              "\n",
              "    <script>\n",
              "      const buttonEl =\n",
              "        document.querySelector('#df-ff6b345e-3be0-41e3-9fe4-49243721fe0f button.colab-df-convert');\n",
              "      buttonEl.style.display =\n",
              "        google.colab.kernel.accessAllowed ? 'block' : 'none';\n",
              "\n",
              "      async function convertToInteractive(key) {\n",
              "        const element = document.querySelector('#df-ff6b345e-3be0-41e3-9fe4-49243721fe0f');\n",
              "        const dataTable =\n",
              "          await google.colab.kernel.invokeFunction('convertToInteractive',\n",
              "                                                    [key], {});\n",
              "        if (!dataTable) return;\n",
              "\n",
              "        const docLinkHtml = 'Like what you see? Visit the ' +\n",
              "          '<a target=\"_blank\" href=https://colab.research.google.com/notebooks/data_table.ipynb>data table notebook</a>'\n",
              "          + ' to learn more about interactive tables.';\n",
              "        element.innerHTML = '';\n",
              "        dataTable['output_type'] = 'display_data';\n",
              "        await google.colab.output.renderOutput(dataTable, element);\n",
              "        const docLink = document.createElement('div');\n",
              "        docLink.innerHTML = docLinkHtml;\n",
              "        element.appendChild(docLink);\n",
              "      }\n",
              "    </script>\n",
              "  </div>\n",
              "\n",
              "\n",
              "<div id=\"df-a30756a6-0220-40c7-85b6-3638c783f252\">\n",
              "  <button class=\"colab-df-quickchart\" onclick=\"quickchart('df-a30756a6-0220-40c7-85b6-3638c783f252')\"\n",
              "            title=\"Suggest charts\"\n",
              "            style=\"display:none;\">\n",
              "\n",
              "<svg xmlns=\"http://www.w3.org/2000/svg\" height=\"24px\"viewBox=\"0 0 24 24\"\n",
              "     width=\"24px\">\n",
              "    <g>\n",
              "        <path d=\"M19 3H5c-1.1 0-2 .9-2 2v14c0 1.1.9 2 2 2h14c1.1 0 2-.9 2-2V5c0-1.1-.9-2-2-2zM9 17H7v-7h2v7zm4 0h-2V7h2v10zm4 0h-2v-4h2v4z\"/>\n",
              "    </g>\n",
              "</svg>\n",
              "  </button>\n",
              "\n",
              "<style>\n",
              "  .colab-df-quickchart {\n",
              "      --bg-color: #E8F0FE;\n",
              "      --fill-color: #1967D2;\n",
              "      --hover-bg-color: #E2EBFA;\n",
              "      --hover-fill-color: #174EA6;\n",
              "      --disabled-fill-color: #AAA;\n",
              "      --disabled-bg-color: #DDD;\n",
              "  }\n",
              "\n",
              "  [theme=dark] .colab-df-quickchart {\n",
              "      --bg-color: #3B4455;\n",
              "      --fill-color: #D2E3FC;\n",
              "      --hover-bg-color: #434B5C;\n",
              "      --hover-fill-color: #FFFFFF;\n",
              "      --disabled-bg-color: #3B4455;\n",
              "      --disabled-fill-color: #666;\n",
              "  }\n",
              "\n",
              "  .colab-df-quickchart {\n",
              "    background-color: var(--bg-color);\n",
              "    border: none;\n",
              "    border-radius: 50%;\n",
              "    cursor: pointer;\n",
              "    display: none;\n",
              "    fill: var(--fill-color);\n",
              "    height: 32px;\n",
              "    padding: 0;\n",
              "    width: 32px;\n",
              "  }\n",
              "\n",
              "  .colab-df-quickchart:hover {\n",
              "    background-color: var(--hover-bg-color);\n",
              "    box-shadow: 0 1px 2px rgba(60, 64, 67, 0.3), 0 1px 3px 1px rgba(60, 64, 67, 0.15);\n",
              "    fill: var(--button-hover-fill-color);\n",
              "  }\n",
              "\n",
              "  .colab-df-quickchart-complete:disabled,\n",
              "  .colab-df-quickchart-complete:disabled:hover {\n",
              "    background-color: var(--disabled-bg-color);\n",
              "    fill: var(--disabled-fill-color);\n",
              "    box-shadow: none;\n",
              "  }\n",
              "\n",
              "  .colab-df-spinner {\n",
              "    border: 2px solid var(--fill-color);\n",
              "    border-color: transparent;\n",
              "    border-bottom-color: var(--fill-color);\n",
              "    animation:\n",
              "      spin 1s steps(1) infinite;\n",
              "  }\n",
              "\n",
              "  @keyframes spin {\n",
              "    0% {\n",
              "      border-color: transparent;\n",
              "      border-bottom-color: var(--fill-color);\n",
              "      border-left-color: var(--fill-color);\n",
              "    }\n",
              "    20% {\n",
              "      border-color: transparent;\n",
              "      border-left-color: var(--fill-color);\n",
              "      border-top-color: var(--fill-color);\n",
              "    }\n",
              "    30% {\n",
              "      border-color: transparent;\n",
              "      border-left-color: var(--fill-color);\n",
              "      border-top-color: var(--fill-color);\n",
              "      border-right-color: var(--fill-color);\n",
              "    }\n",
              "    40% {\n",
              "      border-color: transparent;\n",
              "      border-right-color: var(--fill-color);\n",
              "      border-top-color: var(--fill-color);\n",
              "    }\n",
              "    60% {\n",
              "      border-color: transparent;\n",
              "      border-right-color: var(--fill-color);\n",
              "    }\n",
              "    80% {\n",
              "      border-color: transparent;\n",
              "      border-right-color: var(--fill-color);\n",
              "      border-bottom-color: var(--fill-color);\n",
              "    }\n",
              "    90% {\n",
              "      border-color: transparent;\n",
              "      border-bottom-color: var(--fill-color);\n",
              "    }\n",
              "  }\n",
              "</style>\n",
              "\n",
              "  <script>\n",
              "    async function quickchart(key) {\n",
              "      const quickchartButtonEl =\n",
              "        document.querySelector('#' + key + ' button');\n",
              "      quickchartButtonEl.disabled = true;  // To prevent multiple clicks.\n",
              "      quickchartButtonEl.classList.add('colab-df-spinner');\n",
              "      try {\n",
              "        const charts = await google.colab.kernel.invokeFunction(\n",
              "            'suggestCharts', [key], {});\n",
              "      } catch (error) {\n",
              "        console.error('Error during call to suggestCharts:', error);\n",
              "      }\n",
              "      quickchartButtonEl.classList.remove('colab-df-spinner');\n",
              "      quickchartButtonEl.classList.add('colab-df-quickchart-complete');\n",
              "    }\n",
              "    (() => {\n",
              "      let quickchartButtonEl =\n",
              "        document.querySelector('#df-a30756a6-0220-40c7-85b6-3638c783f252 button');\n",
              "      quickchartButtonEl.style.display =\n",
              "        google.colab.kernel.accessAllowed ? 'block' : 'none';\n",
              "    })();\n",
              "  </script>\n",
              "</div>\n",
              "    </div>\n",
              "  </div>\n"
            ]
          },
          "metadata": {}
        }
      ]
    },
    {
      "cell_type": "markdown",
      "source": [
        "**Хуже**"
      ],
      "metadata": {
        "id": "FdL0NF5r9XQh"
      }
    },
    {
      "cell_type": "code",
      "source": [
        "copy = df.copy()\n",
        "\n",
        "# генерируем группу, на которых проверяется обновление. Конверсия хуже на 3%\n",
        "treat_dataset = pd.Series(np.random.binomial(1, 0.07, size=n))\n",
        "treat_dataset = pd.DataFrame(treat_dataset)\n",
        "treat_dataset.rename(columns={treat_dataset.columns[0]: 'converted'}, inplace=True)\n",
        "treat_dataset['con_treat'] = 'treatment'\n",
        "\n",
        "copy = pd.concat([copy, treat_dataset])\n",
        "table = pd.pivot_table(copy, index='con_treat', values='converted', aggfunc='sum')\n",
        "# размер группы\n",
        "table['size'] = copy.groupby('con_treat').size()\n",
        "# конверсия\n",
        "table['cr'] = table['converted'] / table['size']\n",
        "# Результат по сбору данных\n",
        "display(table)"
      ],
      "metadata": {
        "colab": {
          "base_uri": "https://localhost:8080/",
          "height": 143
        },
        "id": "K3ljkQ70_1Vk",
        "outputId": "1bdb454f-c926-4660-f4d3-f4d624c9ed80"
      },
      "execution_count": null,
      "outputs": [
        {
          "output_type": "display_data",
          "data": {
            "text/plain": [
              "           converted  size        cr\n",
              "con_treat                           \n",
              "control          583  5807  0.100396\n",
              "treatment        408  5807  0.070260"
            ],
            "text/html": [
              "\n",
              "  <div id=\"df-b850f60c-4d01-40ea-babd-3bbdcd65942e\" class=\"colab-df-container\">\n",
              "    <div>\n",
              "<style scoped>\n",
              "    .dataframe tbody tr th:only-of-type {\n",
              "        vertical-align: middle;\n",
              "    }\n",
              "\n",
              "    .dataframe tbody tr th {\n",
              "        vertical-align: top;\n",
              "    }\n",
              "\n",
              "    .dataframe thead th {\n",
              "        text-align: right;\n",
              "    }\n",
              "</style>\n",
              "<table border=\"1\" class=\"dataframe\">\n",
              "  <thead>\n",
              "    <tr style=\"text-align: right;\">\n",
              "      <th></th>\n",
              "      <th>converted</th>\n",
              "      <th>size</th>\n",
              "      <th>cr</th>\n",
              "    </tr>\n",
              "    <tr>\n",
              "      <th>con_treat</th>\n",
              "      <th></th>\n",
              "      <th></th>\n",
              "      <th></th>\n",
              "    </tr>\n",
              "  </thead>\n",
              "  <tbody>\n",
              "    <tr>\n",
              "      <th>control</th>\n",
              "      <td>583</td>\n",
              "      <td>5807</td>\n",
              "      <td>0.100396</td>\n",
              "    </tr>\n",
              "    <tr>\n",
              "      <th>treatment</th>\n",
              "      <td>408</td>\n",
              "      <td>5807</td>\n",
              "      <td>0.070260</td>\n",
              "    </tr>\n",
              "  </tbody>\n",
              "</table>\n",
              "</div>\n",
              "    <div class=\"colab-df-buttons\">\n",
              "\n",
              "  <div class=\"colab-df-container\">\n",
              "    <button class=\"colab-df-convert\" onclick=\"convertToInteractive('df-b850f60c-4d01-40ea-babd-3bbdcd65942e')\"\n",
              "            title=\"Convert this dataframe to an interactive table.\"\n",
              "            style=\"display:none;\">\n",
              "\n",
              "  <svg xmlns=\"http://www.w3.org/2000/svg\" height=\"24px\" viewBox=\"0 -960 960 960\">\n",
              "    <path d=\"M120-120v-720h720v720H120Zm60-500h600v-160H180v160Zm220 220h160v-160H400v160Zm0 220h160v-160H400v160ZM180-400h160v-160H180v160Zm440 0h160v-160H620v160ZM180-180h160v-160H180v160Zm440 0h160v-160H620v160Z\"/>\n",
              "  </svg>\n",
              "    </button>\n",
              "\n",
              "  <style>\n",
              "    .colab-df-container {\n",
              "      display:flex;\n",
              "      gap: 12px;\n",
              "    }\n",
              "\n",
              "    .colab-df-convert {\n",
              "      background-color: #E8F0FE;\n",
              "      border: none;\n",
              "      border-radius: 50%;\n",
              "      cursor: pointer;\n",
              "      display: none;\n",
              "      fill: #1967D2;\n",
              "      height: 32px;\n",
              "      padding: 0 0 0 0;\n",
              "      width: 32px;\n",
              "    }\n",
              "\n",
              "    .colab-df-convert:hover {\n",
              "      background-color: #E2EBFA;\n",
              "      box-shadow: 0px 1px 2px rgba(60, 64, 67, 0.3), 0px 1px 3px 1px rgba(60, 64, 67, 0.15);\n",
              "      fill: #174EA6;\n",
              "    }\n",
              "\n",
              "    .colab-df-buttons div {\n",
              "      margin-bottom: 4px;\n",
              "    }\n",
              "\n",
              "    [theme=dark] .colab-df-convert {\n",
              "      background-color: #3B4455;\n",
              "      fill: #D2E3FC;\n",
              "    }\n",
              "\n",
              "    [theme=dark] .colab-df-convert:hover {\n",
              "      background-color: #434B5C;\n",
              "      box-shadow: 0px 1px 3px 1px rgba(0, 0, 0, 0.15);\n",
              "      filter: drop-shadow(0px 1px 2px rgba(0, 0, 0, 0.3));\n",
              "      fill: #FFFFFF;\n",
              "    }\n",
              "  </style>\n",
              "\n",
              "    <script>\n",
              "      const buttonEl =\n",
              "        document.querySelector('#df-b850f60c-4d01-40ea-babd-3bbdcd65942e button.colab-df-convert');\n",
              "      buttonEl.style.display =\n",
              "        google.colab.kernel.accessAllowed ? 'block' : 'none';\n",
              "\n",
              "      async function convertToInteractive(key) {\n",
              "        const element = document.querySelector('#df-b850f60c-4d01-40ea-babd-3bbdcd65942e');\n",
              "        const dataTable =\n",
              "          await google.colab.kernel.invokeFunction('convertToInteractive',\n",
              "                                                    [key], {});\n",
              "        if (!dataTable) return;\n",
              "\n",
              "        const docLinkHtml = 'Like what you see? Visit the ' +\n",
              "          '<a target=\"_blank\" href=https://colab.research.google.com/notebooks/data_table.ipynb>data table notebook</a>'\n",
              "          + ' to learn more about interactive tables.';\n",
              "        element.innerHTML = '';\n",
              "        dataTable['output_type'] = 'display_data';\n",
              "        await google.colab.output.renderOutput(dataTable, element);\n",
              "        const docLink = document.createElement('div');\n",
              "        docLink.innerHTML = docLinkHtml;\n",
              "        element.appendChild(docLink);\n",
              "      }\n",
              "    </script>\n",
              "  </div>\n",
              "\n",
              "\n",
              "<div id=\"df-04d37070-3311-49e3-89f5-6e5395fc8b57\">\n",
              "  <button class=\"colab-df-quickchart\" onclick=\"quickchart('df-04d37070-3311-49e3-89f5-6e5395fc8b57')\"\n",
              "            title=\"Suggest charts\"\n",
              "            style=\"display:none;\">\n",
              "\n",
              "<svg xmlns=\"http://www.w3.org/2000/svg\" height=\"24px\"viewBox=\"0 0 24 24\"\n",
              "     width=\"24px\">\n",
              "    <g>\n",
              "        <path d=\"M19 3H5c-1.1 0-2 .9-2 2v14c0 1.1.9 2 2 2h14c1.1 0 2-.9 2-2V5c0-1.1-.9-2-2-2zM9 17H7v-7h2v7zm4 0h-2V7h2v10zm4 0h-2v-4h2v4z\"/>\n",
              "    </g>\n",
              "</svg>\n",
              "  </button>\n",
              "\n",
              "<style>\n",
              "  .colab-df-quickchart {\n",
              "      --bg-color: #E8F0FE;\n",
              "      --fill-color: #1967D2;\n",
              "      --hover-bg-color: #E2EBFA;\n",
              "      --hover-fill-color: #174EA6;\n",
              "      --disabled-fill-color: #AAA;\n",
              "      --disabled-bg-color: #DDD;\n",
              "  }\n",
              "\n",
              "  [theme=dark] .colab-df-quickchart {\n",
              "      --bg-color: #3B4455;\n",
              "      --fill-color: #D2E3FC;\n",
              "      --hover-bg-color: #434B5C;\n",
              "      --hover-fill-color: #FFFFFF;\n",
              "      --disabled-bg-color: #3B4455;\n",
              "      --disabled-fill-color: #666;\n",
              "  }\n",
              "\n",
              "  .colab-df-quickchart {\n",
              "    background-color: var(--bg-color);\n",
              "    border: none;\n",
              "    border-radius: 50%;\n",
              "    cursor: pointer;\n",
              "    display: none;\n",
              "    fill: var(--fill-color);\n",
              "    height: 32px;\n",
              "    padding: 0;\n",
              "    width: 32px;\n",
              "  }\n",
              "\n",
              "  .colab-df-quickchart:hover {\n",
              "    background-color: var(--hover-bg-color);\n",
              "    box-shadow: 0 1px 2px rgba(60, 64, 67, 0.3), 0 1px 3px 1px rgba(60, 64, 67, 0.15);\n",
              "    fill: var(--button-hover-fill-color);\n",
              "  }\n",
              "\n",
              "  .colab-df-quickchart-complete:disabled,\n",
              "  .colab-df-quickchart-complete:disabled:hover {\n",
              "    background-color: var(--disabled-bg-color);\n",
              "    fill: var(--disabled-fill-color);\n",
              "    box-shadow: none;\n",
              "  }\n",
              "\n",
              "  .colab-df-spinner {\n",
              "    border: 2px solid var(--fill-color);\n",
              "    border-color: transparent;\n",
              "    border-bottom-color: var(--fill-color);\n",
              "    animation:\n",
              "      spin 1s steps(1) infinite;\n",
              "  }\n",
              "\n",
              "  @keyframes spin {\n",
              "    0% {\n",
              "      border-color: transparent;\n",
              "      border-bottom-color: var(--fill-color);\n",
              "      border-left-color: var(--fill-color);\n",
              "    }\n",
              "    20% {\n",
              "      border-color: transparent;\n",
              "      border-left-color: var(--fill-color);\n",
              "      border-top-color: var(--fill-color);\n",
              "    }\n",
              "    30% {\n",
              "      border-color: transparent;\n",
              "      border-left-color: var(--fill-color);\n",
              "      border-top-color: var(--fill-color);\n",
              "      border-right-color: var(--fill-color);\n",
              "    }\n",
              "    40% {\n",
              "      border-color: transparent;\n",
              "      border-right-color: var(--fill-color);\n",
              "      border-top-color: var(--fill-color);\n",
              "    }\n",
              "    60% {\n",
              "      border-color: transparent;\n",
              "      border-right-color: var(--fill-color);\n",
              "    }\n",
              "    80% {\n",
              "      border-color: transparent;\n",
              "      border-right-color: var(--fill-color);\n",
              "      border-bottom-color: var(--fill-color);\n",
              "    }\n",
              "    90% {\n",
              "      border-color: transparent;\n",
              "      border-bottom-color: var(--fill-color);\n",
              "    }\n",
              "  }\n",
              "</style>\n",
              "\n",
              "  <script>\n",
              "    async function quickchart(key) {\n",
              "      const quickchartButtonEl =\n",
              "        document.querySelector('#' + key + ' button');\n",
              "      quickchartButtonEl.disabled = true;  // To prevent multiple clicks.\n",
              "      quickchartButtonEl.classList.add('colab-df-spinner');\n",
              "      try {\n",
              "        const charts = await google.colab.kernel.invokeFunction(\n",
              "            'suggestCharts', [key], {});\n",
              "      } catch (error) {\n",
              "        console.error('Error during call to suggestCharts:', error);\n",
              "      }\n",
              "      quickchartButtonEl.classList.remove('colab-df-spinner');\n",
              "      quickchartButtonEl.classList.add('colab-df-quickchart-complete');\n",
              "    }\n",
              "    (() => {\n",
              "      let quickchartButtonEl =\n",
              "        document.querySelector('#df-04d37070-3311-49e3-89f5-6e5395fc8b57 button');\n",
              "      quickchartButtonEl.style.display =\n",
              "        google.colab.kernel.accessAllowed ? 'block' : 'none';\n",
              "    })();\n",
              "  </script>\n",
              "</div>\n",
              "    </div>\n",
              "  </div>\n"
            ]
          },
          "metadata": {}
        }
      ]
    },
    {
      "cell_type": "code",
      "source": [
        "# сила эффекта\n",
        "es = sms.proportion_effectsize(table.loc['treatment', 'cr'],\n",
        "                               table.loc['control', 'cr'])\n",
        "print('Сила эффекта: {:.04f}\\n'.format(es))\n",
        "\n",
        "# доверительный интервал для экспериментальной группы\n",
        "lower, upper = conf_interval(table.loc['treatment', 'cr'],\n",
        "                             table.loc['treatment', 'size'],\n",
        "                             alpha)\n",
        "print('Доверительный интервал для плательщиков (treatment):\\n({:.05f}; {:.05f})'.format(lower, upper))\n",
        "print('Уровень значимости:\\nalpha={}\\n'.format(alpha))\n",
        "\n",
        "# Минимальный размер выборки, чтобы задетектить минимальную силу эффекта\n",
        "new_n = zt_ind_solve_power(effect_size=es,\n",
        "                           nobs1=None,\n",
        "                           alpha=alpha,\n",
        "                           power=(1 - beta),\n",
        "                           ratio=1,\n",
        "                           alternative='smaller'\n",
        "                           )\n",
        "new_n = int(np.ceil(new_n / 2))\n",
        "print(f'Минимальный размер каждой из групп может быть таким: {new_n}\\n')\n",
        "\n",
        "# p-value, рассчитанное для всей выборки\n",
        "pval = proportions_ztest(table['converted'].values,\n",
        "                         table['size'].values,\n",
        "                         alternative='larger')[1]\n",
        "print(f'p-value: {pval}')\n",
        "\n",
        "# После сбора данных обнаруживается, что размер группы может быть сильно меньше,\n",
        "# так как эффект получился более выраженным. Здесь я хочу применить bootstrap.\n",
        "# Если распределение p-value будет неравномерным, то выборки различны. Если нет,\n",
        "# то выборки взяты из одного распределения.\n",
        "count = 10000\n",
        "result = []\n",
        "group_1 = copy[copy['con_treat'] == 'control']['converted']\n",
        "group_2 = copy[copy['con_treat'] == 'treatment']['converted']\n",
        "for _ in tqdm(range(count)):\n",
        "  a = group_1.sample(n=int(new_n), replace=True)\n",
        "  b = group_2.sample(n=int(new_n), replace=True)\n",
        "  pval = proportions_ztest([a.sum(), b.sum()], [len(a), len(b)], alternative='larger')[1]\n",
        "  result.append(pval)\n",
        "result = pd.Series(result)"
      ],
      "metadata": {
        "colab": {
          "base_uri": "https://localhost:8080/",
          "height": 223,
          "referenced_widgets": [
            "bdf725f379534c03af7d4482d32c33eb",
            "c23d3fb96d474927aa253bcb83b3d6d3",
            "d2172cc642a64ba1857881eb7e379159",
            "691d518d59804a0d964c913c4207613b",
            "3f781f819619470a955ce79100fd86bd",
            "2395d7b784d645bf8f46e8a7b34059ea",
            "96e77c588db54284b4159de22c0fef41",
            "96a2a279453e4002b41b9d80dae00b72",
            "0e2453f3a6204c349c946204d26294e1",
            "6229c28e0aac42bc95a80c5b33d320eb",
            "1149d982e59c4a2f884b8d9a7beb4e8f"
          ]
        },
        "id": "6TC_IXLCA5FD",
        "outputId": "34be36da-f30a-4438-d5b0-e4440562ea20"
      },
      "execution_count": null,
      "outputs": [
        {
          "output_type": "stream",
          "name": "stdout",
          "text": [
            "Сила эффекта: -0.1083\n",
            "\n",
            "Доверительный интервал для плательщиков (treatment):\n",
            "(0.06474; 0.07578)\n",
            "Уровень значимости:\n",
            "alpha=0.05\n",
            "\n",
            "Минимальный размер каждой из групп может быть таким: 528\n",
            "\n",
            "p-value: 3.0759622360584937e-09\n"
          ]
        },
        {
          "output_type": "display_data",
          "data": {
            "text/plain": [
              "  0%|          | 0/10000 [00:00<?, ?it/s]"
            ],
            "application/vnd.jupyter.widget-view+json": {
              "version_major": 2,
              "version_minor": 0,
              "model_id": "bdf725f379534c03af7d4482d32c33eb"
            }
          },
          "metadata": {}
        }
      ]
    },
    {
      "cell_type": "code",
      "source": [
        "# построение гистограммы для p-value\n",
        "result.hist();"
      ],
      "metadata": {
        "colab": {
          "base_uri": "https://localhost:8080/",
          "height": 430
        },
        "id": "vjGtD8OzDBw6",
        "outputId": "86aa98ce-bd39-4abe-94a6-b3394f124538"
      },
      "execution_count": null,
      "outputs": [
        {
          "output_type": "display_data",
          "data": {
            "text/plain": [
              "<Figure size 640x480 with 1 Axes>"
            ],
            "image/png": "[encoded data removed]"
          },
          "metadata": {}
        }
      ]
    },
    {
      "cell_type": "markdown",
      "source": [
        "**Вывод:**\n",
        "> Посчитанное p-value для всей выборки и распределение p-value методом bootstrap говорит, что есть основания отвергнуть нулевую гипотезу о равенстве конверсии двух выборок. Принимаем альтернативную гипотезу о том, что новое обновление сильно хуже старого, поэтому не вводим его в эксплуатацию для всех пользователей.\n"
      ],
      "metadata": {
        "id": "_StbfS8jNCJp"
      }
    },
    {
      "cell_type": "markdown",
      "source": [
        "**Лучше**"
      ],
      "metadata": {
        "id": "-iv1oInA9b-1"
      }
    },
    {
      "cell_type": "code",
      "source": [
        "copy = df.copy()\n",
        "\n",
        "# генерируем группу, на которых проверяется обновление. Конверсия лучше на 1%\n",
        "treat_dataset = pd.Series(np.random.binomial(1, 0.11, size=n))\n",
        "treat_dataset = pd.DataFrame(treat_dataset)\n",
        "treat_dataset.rename(columns={treat_dataset.columns[0]: 'converted'}, inplace=True)\n",
        "treat_dataset['con_treat'] = 'treatment'\n",
        "\n",
        "copy = pd.concat([copy, treat_dataset])\n",
        "table = pd.pivot_table(copy, index='con_treat', values='converted', aggfunc='sum')\n",
        "# размер группы\n",
        "table['size'] = copy.groupby('con_treat').size()\n",
        "# конверсия\n",
        "table['cr'] = table['converted'] / table['size']\n",
        "# Результат по сбору данных\n",
        "display(table)"
      ],
      "metadata": {
        "colab": {
          "base_uri": "https://localhost:8080/",
          "height": 143
        },
        "outputId": "22e23a91-4924-4ad6-92b3-efab86ba9dbe",
        "id": "k_clGVcfPCY7"
      },
      "execution_count": null,
      "outputs": [
        {
          "output_type": "display_data",
          "data": {
            "text/plain": [
              "           converted  size        cr\n",
              "con_treat                           \n",
              "control          583  5807  0.100396\n",
              "treatment        641  5807  0.110384"
            ],
            "text/html": [
              "\n",
              "  <div id=\"df-3e97990d-dbac-48a8-a5a2-fdf30d932e7c\" class=\"colab-df-container\">\n",
              "    <div>\n",
              "<style scoped>\n",
              "    .dataframe tbody tr th:only-of-type {\n",
              "        vertical-align: middle;\n",
              "    }\n",
              "\n",
              "    .dataframe tbody tr th {\n",
              "        vertical-align: top;\n",
              "    }\n",
              "\n",
              "    .dataframe thead th {\n",
              "        text-align: right;\n",
              "    }\n",
              "</style>\n",
              "<table border=\"1\" class=\"dataframe\">\n",
              "  <thead>\n",
              "    <tr style=\"text-align: right;\">\n",
              "      <th></th>\n",
              "      <th>converted</th>\n",
              "      <th>size</th>\n",
              "      <th>cr</th>\n",
              "    </tr>\n",
              "    <tr>\n",
              "      <th>con_treat</th>\n",
              "      <th></th>\n",
              "      <th></th>\n",
              "      <th></th>\n",
              "    </tr>\n",
              "  </thead>\n",
              "  <tbody>\n",
              "    <tr>\n",
              "      <th>control</th>\n",
              "      <td>583</td>\n",
              "      <td>5807</td>\n",
              "      <td>0.100396</td>\n",
              "    </tr>\n",
              "    <tr>\n",
              "      <th>treatment</th>\n",
              "      <td>641</td>\n",
              "      <td>5807</td>\n",
              "      <td>0.110384</td>\n",
              "    </tr>\n",
              "  </tbody>\n",
              "</table>\n",
              "</div>\n",
              "    <div class=\"colab-df-buttons\">\n",
              "\n",
              "  <div class=\"colab-df-container\">\n",
              "    <button class=\"colab-df-convert\" onclick=\"convertToInteractive('df-3e97990d-dbac-48a8-a5a2-fdf30d932e7c')\"\n",
              "            title=\"Convert this dataframe to an interactive table.\"\n",
              "            style=\"display:none;\">\n",
              "\n",
              "  <svg xmlns=\"http://www.w3.org/2000/svg\" height=\"24px\" viewBox=\"0 -960 960 960\">\n",
              "    <path d=\"M120-120v-720h720v720H120Zm60-500h600v-160H180v160Zm220 220h160v-160H400v160Zm0 220h160v-160H400v160ZM180-400h160v-160H180v160Zm440 0h160v-160H620v160ZM180-180h160v-160H180v160Zm440 0h160v-160H620v160Z\"/>\n",
              "  </svg>\n",
              "    </button>\n",
              "\n",
              "  <style>\n",
              "    .colab-df-container {\n",
              "      display:flex;\n",
              "      gap: 12px;\n",
              "    }\n",
              "\n",
              "    .colab-df-convert {\n",
              "      background-color: #E8F0FE;\n",
              "      border: none;\n",
              "      border-radius: 50%;\n",
              "      cursor: pointer;\n",
              "      display: none;\n",
              "      fill: #1967D2;\n",
              "      height: 32px;\n",
              "      padding: 0 0 0 0;\n",
              "      width: 32px;\n",
              "    }\n",
              "\n",
              "    .colab-df-convert:hover {\n",
              "      background-color: #E2EBFA;\n",
              "      box-shadow: 0px 1px 2px rgba(60, 64, 67, 0.3), 0px 1px 3px 1px rgba(60, 64, 67, 0.15);\n",
              "      fill: #174EA6;\n",
              "    }\n",
              "\n",
              "    .colab-df-buttons div {\n",
              "      margin-bottom: 4px;\n",
              "    }\n",
              "\n",
              "    [theme=dark] .colab-df-convert {\n",
              "      background-color: #3B4455;\n",
              "      fill: #D2E3FC;\n",
              "    }\n",
              "\n",
              "    [theme=dark] .colab-df-convert:hover {\n",
              "      background-color: #434B5C;\n",
              "      box-shadow: 0px 1px 3px 1px rgba(0, 0, 0, 0.15);\n",
              "      filter: drop-shadow(0px 1px 2px rgba(0, 0, 0, 0.3));\n",
              "      fill: #FFFFFF;\n",
              "    }\n",
              "  </style>\n",
              "\n",
              "    <script>\n",
              "      const buttonEl =\n",
              "        document.querySelector('#df-3e97990d-dbac-48a8-a5a2-fdf30d932e7c button.colab-df-convert');\n",
              "      buttonEl.style.display =\n",
              "        google.colab.kernel.accessAllowed ? 'block' : 'none';\n",
              "\n",
              "      async function convertToInteractive(key) {\n",
              "        const element = document.querySelector('#df-3e97990d-dbac-48a8-a5a2-fdf30d932e7c');\n",
              "        const dataTable =\n",
              "          await google.colab.kernel.invokeFunction('convertToInteractive',\n",
              "                                                    [key], {});\n",
              "        if (!dataTable) return;\n",
              "\n",
              "        const docLinkHtml = 'Like what you see? Visit the ' +\n",
              "          '<a target=\"_blank\" href=https://colab.research.google.com/notebooks/data_table.ipynb>data table notebook</a>'\n",
              "          + ' to learn more about interactive tables.';\n",
              "        element.innerHTML = '';\n",
              "        dataTable['output_type'] = 'display_data';\n",
              "        await google.colab.output.renderOutput(dataTable, element);\n",
              "        const docLink = document.createElement('div');\n",
              "        docLink.innerHTML = docLinkHtml;\n",
              "        element.appendChild(docLink);\n",
              "      }\n",
              "    </script>\n",
              "  </div>\n",
              "\n",
              "\n",
              "<div id=\"df-da9ea634-6888-494a-998e-0a464f6cc735\">\n",
              "  <button class=\"colab-df-quickchart\" onclick=\"quickchart('df-da9ea634-6888-494a-998e-0a464f6cc735')\"\n",
              "            title=\"Suggest charts\"\n",
              "            style=\"display:none;\">\n",
              "\n",
              "<svg xmlns=\"http://www.w3.org/2000/svg\" height=\"24px\"viewBox=\"0 0 24 24\"\n",
              "     width=\"24px\">\n",
              "    <g>\n",
              "        <path d=\"M19 3H5c-1.1 0-2 .9-2 2v14c0 1.1.9 2 2 2h14c1.1 0 2-.9 2-2V5c0-1.1-.9-2-2-2zM9 17H7v-7h2v7zm4 0h-2V7h2v10zm4 0h-2v-4h2v4z\"/>\n",
              "    </g>\n",
              "</svg>\n",
              "  </button>\n",
              "\n",
              "<style>\n",
              "  .colab-df-quickchart {\n",
              "      --bg-color: #E8F0FE;\n",
              "      --fill-color: #1967D2;\n",
              "      --hover-bg-color: #E2EBFA;\n",
              "      --hover-fill-color: #174EA6;\n",
              "      --disabled-fill-color: #AAA;\n",
              "      --disabled-bg-color: #DDD;\n",
              "  }\n",
              "\n",
              "  [theme=dark] .colab-df-quickchart {\n",
              "      --bg-color: #3B4455;\n",
              "      --fill-color: #D2E3FC;\n",
              "      --hover-bg-color: #434B5C;\n",
              "      --hover-fill-color: #FFFFFF;\n",
              "      --disabled-bg-color: #3B4455;\n",
              "      --disabled-fill-color: #666;\n",
              "  }\n",
              "\n",
              "  .colab-df-quickchart {\n",
              "    background-color: var(--bg-color);\n",
              "    border: none;\n",
              "    border-radius: 50%;\n",
              "    cursor: pointer;\n",
              "    display: none;\n",
              "    fill: var(--fill-color);\n",
              "    height: 32px;\n",
              "    padding: 0;\n",
              "    width: 32px;\n",
              "  }\n",
              "\n",
              "  .colab-df-quickchart:hover {\n",
              "    background-color: var(--hover-bg-color);\n",
              "    box-shadow: 0 1px 2px rgba(60, 64, 67, 0.3), 0 1px 3px 1px rgba(60, 64, 67, 0.15);\n",
              "    fill: var(--button-hover-fill-color);\n",
              "  }\n",
              "\n",
              "  .colab-df-quickchart-complete:disabled,\n",
              "  .colab-df-quickchart-complete:disabled:hover {\n",
              "    background-color: var(--disabled-bg-color);\n",
              "    fill: var(--disabled-fill-color);\n",
              "    box-shadow: none;\n",
              "  }\n",
              "\n",
              "  .colab-df-spinner {\n",
              "    border: 2px solid var(--fill-color);\n",
              "    border-color: transparent;\n",
              "    border-bottom-color: var(--fill-color);\n",
              "    animation:\n",
              "      spin 1s steps(1) infinite;\n",
              "  }\n",
              "\n",
              "  @keyframes spin {\n",
              "    0% {\n",
              "      border-color: transparent;\n",
              "      border-bottom-color: var(--fill-color);\n",
              "      border-left-color: var(--fill-color);\n",
              "    }\n",
              "    20% {\n",
              "      border-color: transparent;\n",
              "      border-left-color: var(--fill-color);\n",
              "      border-top-color: var(--fill-color);\n",
              "    }\n",
              "    30% {\n",
              "      border-color: transparent;\n",
              "      border-left-color: var(--fill-color);\n",
              "      border-top-color: var(--fill-color);\n",
              "      border-right-color: var(--fill-color);\n",
              "    }\n",
              "    40% {\n",
              "      border-color: transparent;\n",
              "      border-right-color: var(--fill-color);\n",
              "      border-top-color: var(--fill-color);\n",
              "    }\n",
              "    60% {\n",
              "      border-color: transparent;\n",
              "      border-right-color: var(--fill-color);\n",
              "    }\n",
              "    80% {\n",
              "      border-color: transparent;\n",
              "      border-right-color: var(--fill-color);\n",
              "      border-bottom-color: var(--fill-color);\n",
              "    }\n",
              "    90% {\n",
              "      border-color: transparent;\n",
              "      border-bottom-color: var(--fill-color);\n",
              "    }\n",
              "  }\n",
              "</style>\n",
              "\n",
              "  <script>\n",
              "    async function quickchart(key) {\n",
              "      const quickchartButtonEl =\n",
              "        document.querySelector('#' + key + ' button');\n",
              "      quickchartButtonEl.disabled = true;  // To prevent multiple clicks.\n",
              "      quickchartButtonEl.classList.add('colab-df-spinner');\n",
              "      try {\n",
              "        const charts = await google.colab.kernel.invokeFunction(\n",
              "            'suggestCharts', [key], {});\n",
              "      } catch (error) {\n",
              "        console.error('Error during call to suggestCharts:', error);\n",
              "      }\n",
              "      quickchartButtonEl.classList.remove('colab-df-spinner');\n",
              "      quickchartButtonEl.classList.add('colab-df-quickchart-complete');\n",
              "    }\n",
              "    (() => {\n",
              "      let quickchartButtonEl =\n",
              "        document.querySelector('#df-da9ea634-6888-494a-998e-0a464f6cc735 button');\n",
              "      quickchartButtonEl.style.display =\n",
              "        google.colab.kernel.accessAllowed ? 'block' : 'none';\n",
              "    })();\n",
              "  </script>\n",
              "</div>\n",
              "    </div>\n",
              "  </div>\n"
            ]
          },
          "metadata": {}
        }
      ]
    },
    {
      "cell_type": "code",
      "source": [
        "# сила эффекта\n",
        "es = sms.proportion_effectsize(0.11, 0.10)\n",
        "print('Сила эффекта: {:.04f}\\n'.format(es))\n",
        "\n",
        "# доверительный интервал для экспериментальной группы\n",
        "lower, upper = conf_interval(table.loc['treatment', 'cr'],\n",
        "                             table.loc['treatment', 'size'],\n",
        "                             alpha)\n",
        "print('Доверительный интервал для плательщиков (treatment):\\n({:.05f}; {:.05f})'.format(lower, upper))\n",
        "print('Уровень значимости:\\nalpha={}\\n'.format(alpha))\n",
        "\n",
        "# Минимальный размер выборки, чтобы задетектить минимальную силу эффекта\n",
        "new_n = zt_ind_solve_power(effect_size=es,\n",
        "                           nobs1=None,\n",
        "                           alpha=alpha,\n",
        "                           power=(1 - beta),\n",
        "                           ratio=1,\n",
        "                           alternative='larger'\n",
        "                           )\n",
        "new_n = int(np.ceil(new_n / 2))\n",
        "print(f'Минимальный размер каждой из групп может быть таким: {new_n}\\n')\n",
        "\n",
        "# p-value, рассчитанное для всей выборки\n",
        "pval = proportions_ztest(table['converted'].values,\n",
        "                         table['size'].values,\n",
        "                         alternative='smaller')[1]\n",
        "print(f'p-value: {pval}')"
      ],
      "metadata": {
        "colab": {
          "base_uri": "https://localhost:8080/"
        },
        "outputId": "2c0dc01c-8216-4741-9de2-d2a854f41d32",
        "id": "ILkh78bIPCZU"
      },
      "execution_count": null,
      "outputs": [
        {
          "output_type": "stream",
          "name": "stdout",
          "text": [
            "Сила эффекта: 0.0326\n",
            "\n",
            "Доверительный интервал для плательщиков (treatment):\n",
            "(0.10362; 0.11715)\n",
            "Уровень значимости:\n",
            "alpha=0.05\n",
            "\n",
            "Минимальный размер каждой из групп может быть таким: 5807\n",
            "\n",
            "p-value: 0.03982231000063544\n"
          ]
        }
      ]
    },
    {
      "cell_type": "markdown",
      "source": [
        "**Вывод:**\n",
        "> Посчитанное p-value говорит, что есть основания отвергнуть нулевую гипотезу о равенстве конверсии двух выборок. Принимаем альтернативную гипотезу о том, что новое обновление лучше старого, однако не так сильно для нашей базы игроков, как хотелось бы, но тест показал, что мы можем вводить обновление в эксплуатацию."
      ],
      "metadata": {
        "id": "6QvhWFPiRboZ"
      }
    },
    {
      "cell_type": "markdown",
      "source": [
        "**Без эффекта**"
      ],
      "metadata": {
        "id": "96mCyxp-9cHW"
      }
    },
    {
      "cell_type": "code",
      "source": [
        "copy = df.copy()\n",
        "\n",
        "# генерируем группу, на которых проверяется обновление. Конверсия та же\n",
        "treat_dataset = pd.Series(np.random.binomial(1, copy['converted'].mean(), size=n))\n",
        "treat_dataset = pd.DataFrame(treat_dataset)\n",
        "treat_dataset.rename(columns={treat_dataset.columns[0]: 'converted'}, inplace=True)\n",
        "treat_dataset['con_treat'] = 'treatment'\n",
        "\n",
        "copy = pd.concat([copy, treat_dataset])\n",
        "table = pd.pivot_table(copy, index='con_treat', values='converted', aggfunc='sum')\n",
        "# размер группы\n",
        "table['size'] = copy.groupby('con_treat').size()\n",
        "# конверсия\n",
        "table['cr'] = table['converted'] / table['size']\n",
        "# Результат по сбору данных\n",
        "display(table)"
      ],
      "metadata": {
        "colab": {
          "base_uri": "https://localhost:8080/",
          "height": 143
        },
        "outputId": "ca1a5c2b-48dd-4733-ba89-07ac89bb9053",
        "id": "pah1NENlSvWC"
      },
      "execution_count": null,
      "outputs": [
        {
          "output_type": "display_data",
          "data": {
            "text/plain": [
              "           converted  size        cr\n",
              "con_treat                           \n",
              "control          583  5807  0.100396\n",
              "treatment        610  5807  0.105046"
            ],
            "text/html": [
              "\n",
              "  <div id=\"df-941c6666-5a33-4ae2-b3dc-15312a198ee1\" class=\"colab-df-container\">\n",
              "    <div>\n",
              "<style scoped>\n",
              "    .dataframe tbody tr th:only-of-type {\n",
              "        vertical-align: middle;\n",
              "    }\n",
              "\n",
              "    .dataframe tbody tr th {\n",
              "        vertical-align: top;\n",
              "    }\n",
              "\n",
              "    .dataframe thead th {\n",
              "        text-align: right;\n",
              "    }\n",
              "</style>\n",
              "<table border=\"1\" class=\"dataframe\">\n",
              "  <thead>\n",
              "    <tr style=\"text-align: right;\">\n",
              "      <th></th>\n",
              "      <th>converted</th>\n",
              "      <th>size</th>\n",
              "      <th>cr</th>\n",
              "    </tr>\n",
              "    <tr>\n",
              "      <th>con_treat</th>\n",
              "      <th></th>\n",
              "      <th></th>\n",
              "      <th></th>\n",
              "    </tr>\n",
              "  </thead>\n",
              "  <tbody>\n",
              "    <tr>\n",
              "      <th>control</th>\n",
              "      <td>583</td>\n",
              "      <td>5807</td>\n",
              "      <td>0.100396</td>\n",
              "    </tr>\n",
              "    <tr>\n",
              "      <th>treatment</th>\n",
              "      <td>610</td>\n",
              "      <td>5807</td>\n",
              "      <td>0.105046</td>\n",
              "    </tr>\n",
              "  </tbody>\n",
              "</table>\n",
              "</div>\n",
              "    <div class=\"colab-df-buttons\">\n",
              "\n",
              "  <div class=\"colab-df-container\">\n",
              "    <button class=\"colab-df-convert\" onclick=\"convertToInteractive('df-941c6666-5a33-4ae2-b3dc-15312a198ee1')\"\n",
              "            title=\"Convert this dataframe to an interactive table.\"\n",
              "            style=\"display:none;\">\n",
              "\n",
              "  <svg xmlns=\"http://www.w3.org/2000/svg\" height=\"24px\" viewBox=\"0 -960 960 960\">\n",
              "    <path d=\"M120-120v-720h720v720H120Zm60-500h600v-160H180v160Zm220 220h160v-160H400v160Zm0 220h160v-160H400v160ZM180-400h160v-160H180v160Zm440 0h160v-160H620v160ZM180-180h160v-160H180v160Zm440 0h160v-160H620v160Z\"/>\n",
              "  </svg>\n",
              "    </button>\n",
              "\n",
              "  <style>\n",
              "    .colab-df-container {\n",
              "      display:flex;\n",
              "      gap: 12px;\n",
              "    }\n",
              "\n",
              "    .colab-df-convert {\n",
              "      background-color: #E8F0FE;\n",
              "      border: none;\n",
              "      border-radius: 50%;\n",
              "      cursor: pointer;\n",
              "      display: none;\n",
              "      fill: #1967D2;\n",
              "      height: 32px;\n",
              "      padding: 0 0 0 0;\n",
              "      width: 32px;\n",
              "    }\n",
              "\n",
              "    .colab-df-convert:hover {\n",
              "      background-color: #E2EBFA;\n",
              "      box-shadow: 0px 1px 2px rgba(60, 64, 67, 0.3), 0px 1px 3px 1px rgba(60, 64, 67, 0.15);\n",
              "      fill: #174EA6;\n",
              "    }\n",
              "\n",
              "    .colab-df-buttons div {\n",
              "      margin-bottom: 4px;\n",
              "    }\n",
              "\n",
              "    [theme=dark] .colab-df-convert {\n",
              "      background-color: #3B4455;\n",
              "      fill: #D2E3FC;\n",
              "    }\n",
              "\n",
              "    [theme=dark] .colab-df-convert:hover {\n",
              "      background-color: #434B5C;\n",
              "      box-shadow: 0px 1px 3px 1px rgba(0, 0, 0, 0.15);\n",
              "      filter: drop-shadow(0px 1px 2px rgba(0, 0, 0, 0.3));\n",
              "      fill: #FFFFFF;\n",
              "    }\n",
              "  </style>\n",
              "\n",
              "    <script>\n",
              "      const buttonEl =\n",
              "        document.querySelector('#df-941c6666-5a33-4ae2-b3dc-15312a198ee1 button.colab-df-convert');\n",
              "      buttonEl.style.display =\n",
              "        google.colab.kernel.accessAllowed ? 'block' : 'none';\n",
              "\n",
              "      async function convertToInteractive(key) {\n",
              "        const element = document.querySelector('#df-941c6666-5a33-4ae2-b3dc-15312a198ee1');\n",
              "        const dataTable =\n",
              "          await google.colab.kernel.invokeFunction('convertToInteractive',\n",
              "                                                    [key], {});\n",
              "        if (!dataTable) return;\n",
              "\n",
              "        const docLinkHtml = 'Like what you see? Visit the ' +\n",
              "          '<a target=\"_blank\" href=https://colab.research.google.com/notebooks/data_table.ipynb>data table notebook</a>'\n",
              "          + ' to learn more about interactive tables.';\n",
              "        element.innerHTML = '';\n",
              "        dataTable['output_type'] = 'display_data';\n",
              "        await google.colab.output.renderOutput(dataTable, element);\n",
              "        const docLink = document.createElement('div');\n",
              "        docLink.innerHTML = docLinkHtml;\n",
              "        element.appendChild(docLink);\n",
              "      }\n",
              "    </script>\n",
              "  </div>\n",
              "\n",
              "\n",
              "<div id=\"df-a2da7152-d393-4c48-baa5-386a0488bdb9\">\n",
              "  <button class=\"colab-df-quickchart\" onclick=\"quickchart('df-a2da7152-d393-4c48-baa5-386a0488bdb9')\"\n",
              "            title=\"Suggest charts\"\n",
              "            style=\"display:none;\">\n",
              "\n",
              "<svg xmlns=\"http://www.w3.org/2000/svg\" height=\"24px\"viewBox=\"0 0 24 24\"\n",
              "     width=\"24px\">\n",
              "    <g>\n",
              "        <path d=\"M19 3H5c-1.1 0-2 .9-2 2v14c0 1.1.9 2 2 2h14c1.1 0 2-.9 2-2V5c0-1.1-.9-2-2-2zM9 17H7v-7h2v7zm4 0h-2V7h2v10zm4 0h-2v-4h2v4z\"/>\n",
              "    </g>\n",
              "</svg>\n",
              "  </button>\n",
              "\n",
              "<style>\n",
              "  .colab-df-quickchart {\n",
              "      --bg-color: #E8F0FE;\n",
              "      --fill-color: #1967D2;\n",
              "      --hover-bg-color: #E2EBFA;\n",
              "      --hover-fill-color: #174EA6;\n",
              "      --disabled-fill-color: #AAA;\n",
              "      --disabled-bg-color: #DDD;\n",
              "  }\n",
              "\n",
              "  [theme=dark] .colab-df-quickchart {\n",
              "      --bg-color: #3B4455;\n",
              "      --fill-color: #D2E3FC;\n",
              "      --hover-bg-color: #434B5C;\n",
              "      --hover-fill-color: #FFFFFF;\n",
              "      --disabled-bg-color: #3B4455;\n",
              "      --disabled-fill-color: #666;\n",
              "  }\n",
              "\n",
              "  .colab-df-quickchart {\n",
              "    background-color: var(--bg-color);\n",
              "    border: none;\n",
              "    border-radius: 50%;\n",
              "    cursor: pointer;\n",
              "    display: none;\n",
              "    fill: var(--fill-color);\n",
              "    height: 32px;\n",
              "    padding: 0;\n",
              "    width: 32px;\n",
              "  }\n",
              "\n",
              "  .colab-df-quickchart:hover {\n",
              "    background-color: var(--hover-bg-color);\n",
              "    box-shadow: 0 1px 2px rgba(60, 64, 67, 0.3), 0 1px 3px 1px rgba(60, 64, 67, 0.15);\n",
              "    fill: var(--button-hover-fill-color);\n",
              "  }\n",
              "\n",
              "  .colab-df-quickchart-complete:disabled,\n",
              "  .colab-df-quickchart-complete:disabled:hover {\n",
              "    background-color: var(--disabled-bg-color);\n",
              "    fill: var(--disabled-fill-color);\n",
              "    box-shadow: none;\n",
              "  }\n",
              "\n",
              "  .colab-df-spinner {\n",
              "    border: 2px solid var(--fill-color);\n",
              "    border-color: transparent;\n",
              "    border-bottom-color: var(--fill-color);\n",
              "    animation:\n",
              "      spin 1s steps(1) infinite;\n",
              "  }\n",
              "\n",
              "  @keyframes spin {\n",
              "    0% {\n",
              "      border-color: transparent;\n",
              "      border-bottom-color: var(--fill-color);\n",
              "      border-left-color: var(--fill-color);\n",
              "    }\n",
              "    20% {\n",
              "      border-color: transparent;\n",
              "      border-left-color: var(--fill-color);\n",
              "      border-top-color: var(--fill-color);\n",
              "    }\n",
              "    30% {\n",
              "      border-color: transparent;\n",
              "      border-left-color: var(--fill-color);\n",
              "      border-top-color: var(--fill-color);\n",
              "      border-right-color: var(--fill-color);\n",
              "    }\n",
              "    40% {\n",
              "      border-color: transparent;\n",
              "      border-right-color: var(--fill-color);\n",
              "      border-top-color: var(--fill-color);\n",
              "    }\n",
              "    60% {\n",
              "      border-color: transparent;\n",
              "      border-right-color: var(--fill-color);\n",
              "    }\n",
              "    80% {\n",
              "      border-color: transparent;\n",
              "      border-right-color: var(--fill-color);\n",
              "      border-bottom-color: var(--fill-color);\n",
              "    }\n",
              "    90% {\n",
              "      border-color: transparent;\n",
              "      border-bottom-color: var(--fill-color);\n",
              "    }\n",
              "  }\n",
              "</style>\n",
              "\n",
              "  <script>\n",
              "    async function quickchart(key) {\n",
              "      const quickchartButtonEl =\n",
              "        document.querySelector('#' + key + ' button');\n",
              "      quickchartButtonEl.disabled = true;  // To prevent multiple clicks.\n",
              "      quickchartButtonEl.classList.add('colab-df-spinner');\n",
              "      try {\n",
              "        const charts = await google.colab.kernel.invokeFunction(\n",
              "            'suggestCharts', [key], {});\n",
              "      } catch (error) {\n",
              "        console.error('Error during call to suggestCharts:', error);\n",
              "      }\n",
              "      quickchartButtonEl.classList.remove('colab-df-spinner');\n",
              "      quickchartButtonEl.classList.add('colab-df-quickchart-complete');\n",
              "    }\n",
              "    (() => {\n",
              "      let quickchartButtonEl =\n",
              "        document.querySelector('#df-a2da7152-d393-4c48-baa5-386a0488bdb9 button');\n",
              "      quickchartButtonEl.style.display =\n",
              "        google.colab.kernel.accessAllowed ? 'block' : 'none';\n",
              "    })();\n",
              "  </script>\n",
              "</div>\n",
              "    </div>\n",
              "  </div>\n"
            ]
          },
          "metadata": {}
        }
      ]
    },
    {
      "cell_type": "code",
      "source": [
        "# сила эффекта\n",
        "es = sms.proportion_effectsize(table.loc['treatment', 'cr'],\n",
        "                               table.loc['control', 'cr'])\n",
        "print('Сила эффекта: {:.04f}\\n'.format(es))\n",
        "\n",
        "# доверительный интервал для экспериментальной группы\n",
        "lower, upper = conf_interval(table.loc['treatment', 'cr'],\n",
        "                             table.loc['treatment', 'size'],\n",
        "                             alpha)\n",
        "print('Доверительный интервал для плательщиков (treatment):\\n({:.05f}; {:.05f})'.format(lower, upper))\n",
        "print('Уровень значимости:\\nalpha={}\\n'.format(alpha))\n",
        "\n",
        "# Минимальный размер выборки, чтобы задетектить минимальную силу эффекта\n",
        "new_n = zt_ind_solve_power(effect_size=es,\n",
        "                           nobs1=None,\n",
        "                           alpha=alpha,\n",
        "                           power=(1 - beta),\n",
        "                           ratio=1,\n",
        "                           alternative='two-sided'\n",
        "                           )\n",
        "new_n = int(np.ceil(new_n / 2))\n",
        "print(f'Минимальный размер каждой из групп может быть таким: {new_n}\\n')\n",
        "\n",
        "# p-value, рассчитанное для всей выборки\n",
        "pval = proportions_ztest(table['converted'].values,\n",
        "                         table['size'].values,\n",
        "                         alternative='two-sided')[1]\n",
        "print(f'p-value: {pval}')"
      ],
      "metadata": {
        "colab": {
          "base_uri": "https://localhost:8080/"
        },
        "outputId": "7a0626db-1fde-426e-da0e-6dcbaacd663d",
        "id": "trsbDojWSvWG"
      },
      "execution_count": null,
      "outputs": [
        {
          "output_type": "stream",
          "name": "stdout",
          "text": [
            "Сила эффекта: 0.0153\n",
            "\n",
            "Доверительный интервал для плательщиков (treatment):\n",
            "(0.09843; 0.11166)\n",
            "Уровень значимости:\n",
            "alpha=0.05\n",
            "\n",
            "Минимальный размер каждой из групп может быть таким: 33460\n",
            "\n",
            "p-value: 0.4092359038880137\n"
          ]
        }
      ]
    },
    {
      "cell_type": "markdown",
      "source": [
        "**Вывод:**\n",
        "> Посчитанное p-value говорит, что нет оснований (недостаточно данных), чтобы отвергнуть нулевую гипотезу о равенстве конверсии двух выборок. Выборки пришли из одного распределения. Получается, что обновление никак не повлияет на конверсию в покупку для новых пользователей."
      ],
      "metadata": {
        "id": "-fe4VtofTZcq"
      }
    },
    {
      "cell_type": "markdown",
      "source": [
        "### **Пункт 5**"
      ],
      "metadata": {
        "id": "f5sb1IwDatnn"
      }
    },
    {
      "cell_type": "markdown",
      "source": [
        "В пункте 4 я решал задачу методом Bayesian A/B-testing"
      ],
      "metadata": {
        "id": "rsWo0OP4a-Ux"
      }
    },
    {
      "cell_type": "markdown",
      "source": [
        "**Bayesian A/B-testing**"
      ],
      "metadata": {
        "id": "ElVkoj9taTpV"
      }
    },
    {
      "cell_type": "markdown",
      "source": [
        "\n",
        "*   Размер выборки для проведения A/B-теста должен быть определён заранее.\n",
        "*   Нельзя досрочно прерывать A/B-тест, при достижении значимости на более маленькой выборке.\n",
        "*   Нельзя продолжать A/B-тест, если за изначально запланированный период значимого результата получить не удалось.\n",
        "*   Нельзя менять метрики/критерии по результатам подглядывания.\n",
        "*   Следует дождаться конца теста, чтобы ответить на вопрос о значимой разнице, когда вся выборка будет собрана.\n",
        "*   Можно перезапускать тест на новых данных.\n",
        "\n",
        "\n"
      ],
      "metadata": {
        "id": "tqdVNWXaaao-"
      }
    },
    {
      "cell_type": "code",
      "source": [],
      "metadata": {
        "id": "JlUTDpL_T06X"
      },
      "execution_count": null,
      "outputs": []
    }
  ]
}